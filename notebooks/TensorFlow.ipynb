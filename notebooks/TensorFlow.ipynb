{
 "cells": [
  {
   "cell_type": "code",
   "execution_count": 1,
   "id": "3fa14d9d-01c3-4687-8ada-e4392e7dcce3",
   "metadata": {},
   "outputs": [
    {
     "name": "stdout",
     "output_type": "stream",
     "text": [
      "Cloning into 'clothing-dataset'...\n",
      "remote: Enumerating objects: 5792, done.\u001b[K\n",
      "remote: Counting objects: 100% (26/26), done.\u001b[K\n",
      "remote: Compressing objects: 100% (25/25), done.\u001b[K\n",
      "remote: Total 5792 (delta 13), reused 3 (delta 1), pack-reused 5766\u001b[K\n",
      "Receiving objects: 100% (5792/5792), 152.92 MiB | 2.66 MiB/s, done.\n",
      "Resolving deltas: 100% (14/14), done.\n",
      "Updating files: 100% (5759/5759), done.\n"
     ]
    }
   ],
   "source": [
    "!git clone https://github.com/kevmo/clothing-dataset"
   ]
  },
  {
   "cell_type": "code",
   "execution_count": 3,
   "id": "152c533a-dfbe-4197-b4ff-26af8173c9c9",
   "metadata": {},
   "outputs": [],
   "source": [
    "import numpy as np\n",
    "import matplotlib.pyplot as plt\n",
    "\n",
    "%matplotlib inline"
   ]
  },
  {
   "cell_type": "code",
   "execution_count": null,
   "id": "12195792-20d7-4b31-a542-8a794b250ede",
   "metadata": {},
   "outputs": [],
   "source": [
    "import tensorflow as ft\n",
    "from tensorflow import keras"
   ]
  }
 ],
 "metadata": {
  "kernelspec": {
   "display_name": "Python 3 (ipykernel)",
   "language": "python",
   "name": "python3"
  },
  "language_info": {
   "codemirror_mode": {
    "name": "ipython",
    "version": 3
   },
   "file_extension": ".py",
   "mimetype": "text/x-python",
   "name": "python",
   "nbconvert_exporter": "python",
   "pygments_lexer": "ipython3",
   "version": "3.11.5"
  }
 },
 "nbformat": 4,
 "nbformat_minor": 5
}
